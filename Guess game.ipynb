{
 "cells": [
  {
   "cell_type": "code",
   "execution_count": 1,
   "id": "ff6e2813",
   "metadata": {},
   "outputs": [
    {
     "name": "stdout",
     "output_type": "stream",
     "text": [
      "Welcome to the Guessing Game!\n",
      "I have selected a number between 1 and 100. Can you guess what it is?\n",
      "Enter your guess: 56\n",
      "Too high! Try a lower number.\n",
      "Enter your guess: 15\n",
      "Too low! Try a higher number.\n",
      "Enter your guess: 22\n",
      "Too low! Try a higher number.\n",
      "Enter your guess: 35\n",
      "Too low! Try a higher number.\n",
      "Enter your guess: 45\n",
      "Too high! Try a lower number.\n",
      "Enter your guess: 39\n",
      "Too low! Try a higher number.\n",
      "Enter your guess: 42\n",
      "Too low! Try a higher number.\n",
      "Enter your guess: 43\n",
      "Too low! Try a higher number.\n",
      "Enter your guess: 44\n",
      "Congratulations! You've guessed the number 44 correctly in 9 attempts.\n"
     ]
    }
   ],
   "source": [
    "import random\n",
    "\n",
    "def guessing_game():\n",
    "    number_to_guess = random.randint(1, 100)\n",
    "    attempts = 0\n",
    "\n",
    "    print(\"Welcome to the Guessing Game!\")\n",
    "    print(\"I have selected a number between 1 and 100. Can you guess what it is?\")\n",
    "\n",
    "    while True:\n",
    "        guess = input(\"Enter your guess: \")\n",
    "        \n",
    "        if not guess.isdigit():\n",
    "            print(\"Please enter a valid number.\")\n",
    "            continue\n",
    "        \n",
    "        guess = int(guess)\n",
    "        attempts += 1\n",
    "\n",
    "        if guess < number_to_guess:\n",
    "            print(\"Too low! Try a higher number.\")\n",
    "        elif guess > number_to_guess:\n",
    "            print(\"Too high! Try a lower number.\")\n",
    "        else:\n",
    "            print(f\"Congratulations! You've guessed the number {number_to_guess} correctly in {attempts} attempts.\")\n",
    "            break\n",
    "\n",
    "if __name__ == \"__main__\":\n",
    "    guessing_game()\n"
   ]
  }
 ],
 "metadata": {
  "kernelspec": {
   "display_name": "Python 3 (ipykernel)",
   "language": "python",
   "name": "python3"
  },
  "language_info": {
   "codemirror_mode": {
    "name": "ipython",
    "version": 3
   },
   "file_extension": ".py",
   "mimetype": "text/x-python",
   "name": "python",
   "nbconvert_exporter": "python",
   "pygments_lexer": "ipython3",
   "version": "3.11.5"
  }
 },
 "nbformat": 4,
 "nbformat_minor": 5
}
